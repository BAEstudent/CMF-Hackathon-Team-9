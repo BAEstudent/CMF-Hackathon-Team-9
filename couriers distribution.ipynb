{
 "cells": [
  {
   "cell_type": "code",
   "execution_count": 1,
   "id": "6044c290",
   "metadata": {},
   "outputs": [],
   "source": [
    "# importing libraries\n",
    "import numpy as np\n",
    "import pandas as pd\n",
    "import json\n",
    "import requests as rq\n",
    "from datetime import datetime\n"
   ]
  },
  {
   "cell_type": "code",
   "execution_count": 2,
   "id": "c3c9d10f",
   "metadata": {},
   "outputs": [],
   "source": [
    "## install necessary package\n",
    "# !pip install holidays"
   ]
  },
  {
   "cell_type": "code",
   "execution_count": 3,
   "id": "a589e836",
   "metadata": {},
   "outputs": [],
   "source": [
    "import holidays as hld"
   ]
  },
  {
   "cell_type": "code",
   "execution_count": 4,
   "id": "f301d9da",
   "metadata": {},
   "outputs": [],
   "source": [
    "# reading data\n",
    "orders = pd.read_csv('orders.csv')\n",
    "delays = pd.read_csv('partners_delays.csv')"
   ]
  },
  {
   "cell_type": "code",
   "execution_count": 5,
   "id": "a6783b0f",
   "metadata": {},
   "outputs": [
    {
     "data": {
      "text/plain": [
       "delivery_area_id     int64\n",
       "date                object\n",
       "orders_cnt           int64\n",
       "dtype: object"
      ]
     },
     "execution_count": 5,
     "metadata": {},
     "output_type": "execute_result"
    }
   ],
   "source": [
    "# checking for orders df types\n",
    "orders.dtypes"
   ]
  },
  {
   "cell_type": "code",
   "execution_count": 6,
   "id": "1c1cce75",
   "metadata": {},
   "outputs": [
    {
     "data": {
      "text/plain": [
       "delivery_area_id      int64\n",
       "dttm                 object\n",
       "partners_cnt        float64\n",
       "delay_rate          float64\n",
       "dtype: object"
      ]
     },
     "execution_count": 6,
     "metadata": {},
     "output_type": "execute_result"
    }
   ],
   "source": [
    "# checking for delays df types\n",
    "delays.dtypes"
   ]
  },
  {
   "cell_type": "code",
   "execution_count": 7,
   "id": "f5ed5e0f",
   "metadata": {},
   "outputs": [],
   "source": [
    "# converting string dates to datetime\n",
    "orders['date'] = pd.to_datetime(orders['date'])\n",
    "delays['dttm'] = pd.to_datetime(delays['dttm'])"
   ]
  },
  {
   "cell_type": "code",
   "execution_count": 8,
   "id": "75300ea5",
   "metadata": {},
   "outputs": [],
   "source": [
    "# deriving datetime columns\n",
    "orders_dates = orders['date']\n",
    "delays_dates = delays['dttm']"
   ]
  },
  {
   "cell_type": "code",
   "execution_count": 9,
   "id": "9ae8f5e3",
   "metadata": {},
   "outputs": [],
   "source": [
    "# # deriving month from datetime col\n",
    "# orders['month'] = orders_dates.apply(lambda x: x.month)\n",
    "# delays['month'] = delays_dates.apply(lambda x: x.month)"
   ]
  },
  {
   "cell_type": "code",
   "execution_count": 10,
   "id": "6917790b",
   "metadata": {},
   "outputs": [],
   "source": [
    "# deriving day from datetime col\n",
    "orders['day'] = orders_dates.apply(lambda x: x.day)\n",
    "delays['day'] = delays_dates.apply(lambda x: x.day)"
   ]
  },
  {
   "cell_type": "code",
   "execution_count": 11,
   "id": "c88a1ed9",
   "metadata": {},
   "outputs": [],
   "source": [
    "# deriving hour from datetime col\n",
    "orders['hour'] = orders_dates.apply(lambda x: x.hour)\n",
    "delays['hour'] = delays_dates.apply(lambda x: x.hour)"
   ]
  },
  {
   "cell_type": "code",
   "execution_count": 12,
   "id": "f195777d",
   "metadata": {},
   "outputs": [],
   "source": [
    "# deriving weekday from datetime col\n",
    "orders['weekday'] = orders_dates.apply(lambda x: x.weekday())\n",
    "delays['weekday'] = delays_dates.apply(lambda x: x.weekday())"
   ]
  },
  {
   "cell_type": "code",
   "execution_count": 13,
   "id": "10dd6eea",
   "metadata": {},
   "outputs": [],
   "source": [
    "# deriving day of year from datetime col\n",
    "orders['day_of_year'] = orders_dates.apply(lambda x: x.dayofyear)\n",
    "delays['day_of_year'] = delays_dates.apply(lambda x: x.dayofyear)"
   ]
  },
  {
   "cell_type": "code",
   "execution_count": 14,
   "id": "a32c5cd4",
   "metadata": {},
   "outputs": [],
   "source": [
    "#derive frequency of particular day in data\n",
    "\n",
    "day_freq_orders = orders['day'].value_counts(normalize=True).to_dict()\n",
    "orders['day_freq'] = orders['day'].map(day_freq_orders)\n",
    "\n",
    "day_freq_delays = delays['day'].value_counts(normalize=True).to_dict()\n",
    "delays['day_freq'] = delays['day'].map(day_freq_delays)"
   ]
  },
  {
   "cell_type": "code",
   "execution_count": 15,
   "id": "ca6d15d5",
   "metadata": {},
   "outputs": [],
   "source": [
    "# #derive frequency of particular month in data\n",
    "\n",
    "# month_freq_orders = orders['month'].value_counts(normalize=True).to_dict()\n",
    "# orders['month_freq'] = orders['month'].map(month_freq_orders)\n",
    "\n",
    "# month_freq_delays = delays['month'].value_counts(normalize=True).to_dict()\n",
    "# delays['month_freq'] = delays['month'].map(month_freq_delays)"
   ]
  },
  {
   "cell_type": "code",
   "execution_count": 16,
   "id": "bfc4a5aa",
   "metadata": {},
   "outputs": [],
   "source": [
    "#derive frequency of particular weekday in data\n",
    "\n",
    "weekday_freq_orders = orders['weekday'].value_counts(normalize=True).to_dict()\n",
    "orders['weekday_freq'] = orders['weekday'].map(weekday_freq_orders)\n",
    "\n",
    "weekday_freq_delays = delays['weekday'].value_counts(normalize=True).to_dict()\n",
    "delays['weekday_freq'] = delays['weekday'].map(weekday_freq_delays)"
   ]
  },
  {
   "cell_type": "code",
   "execution_count": 17,
   "id": "6986a433",
   "metadata": {},
   "outputs": [],
   "source": [
    "# deriving datetime columns\n",
    "orders_dates = orders['date']\n",
    "delays_dates = delays['dttm']"
   ]
  },
  {
   "cell_type": "code",
   "execution_count": 18,
   "id": "eb10cdaf",
   "metadata": {},
   "outputs": [],
   "source": [
    "# deriving russian official holidays\n",
    "holidays = [date[0] for date in hld.Russia(years=2021).items()]"
   ]
  },
  {
   "cell_type": "code",
   "execution_count": 19,
   "id": "cfb063ea",
   "metadata": {},
   "outputs": [],
   "source": [
    "#counting days until and before some official holiday day for orders\n",
    "\n",
    "orders_dates = orders_dates.to_frame().sort_values(by='date')\n",
    "\n",
    "df_holidays = pd.DataFrame({'holidays': holidays})\n",
    "df_holidays['holidays'] = pd.to_datetime(df_holidays['holidays'])\n",
    "\n",
    "orders_dates = pd.merge_asof(orders_dates, df_holidays, left_on='date', right_on='holidays', direction='forward')\n",
    "orders_dates = pd.merge_asof(orders_dates, df_holidays, left_on='date', right_on='holidays')\n",
    "\n",
    "orders_dates['days_until_holiday'] = orders_dates.pop('holidays_x').sub(orders_dates['date']).dt.days\n",
    "orders_dates['days_since_holiday'] = orders_dates['date'].sub(orders_dates.pop('holidays_y')).dt.days\n",
    "\n",
    "orders_dates = orders_dates.drop_duplicates()"
   ]
  },
  {
   "cell_type": "code",
   "execution_count": 20,
   "id": "c35fa5e0",
   "metadata": {},
   "outputs": [],
   "source": [
    "#counting days until and before some official holiday day for delays\n",
    "\n",
    "delays_dates = delays_dates.to_frame().sort_values(by='dttm')\n",
    "\n",
    "df_holidays = pd.DataFrame({'holidays': holidays})\n",
    "df_holidays['holidays'] = pd.to_datetime(df_holidays['holidays'])\n",
    "\n",
    "delays_dates = pd.merge_asof(delays_dates, df_holidays, left_on='dttm', right_on='holidays', direction='forward')\n",
    "delays_dates = pd.merge_asof(delays_dates, df_holidays, left_on='dttm', right_on='holidays')\n",
    "\n",
    "delays_dates['days_until_holiday'] = delays_dates.pop('holidays_x').sub(delays_dates['dttm']).dt.days\n",
    "delays_dates['days_since_holiday'] = delays_dates['dttm'].sub(delays_dates.pop('holidays_y')).dt.days\n",
    "\n",
    "delays_dates =  delays_dates.drop_duplicates()"
   ]
  },
  {
   "cell_type": "code",
   "execution_count": 21,
   "id": "4d1b9532",
   "metadata": {},
   "outputs": [],
   "source": [
    "# merging \n",
    "orders = pd.merge(orders, orders_dates, how='left', on='date')\n",
    "delays = pd.merge(delays, delays_dates, how='left', on='dttm')"
   ]
  },
  {
   "cell_type": "markdown",
   "id": "d95081d6",
   "metadata": {},
   "source": [
    "---------------"
   ]
  },
  {
   "cell_type": "code",
   "execution_count": 22,
   "id": "e450f4c1",
   "metadata": {},
   "outputs": [],
   "source": [
    "# deriving datetime columns\n",
    "orders_dates = orders['date']\n",
    "delays_dates = delays['dttm']"
   ]
  },
  {
   "cell_type": "code",
   "execution_count": 23,
   "id": "8a5eb5eb",
   "metadata": {},
   "outputs": [],
   "source": [
    "# getting the data for any non-working day (includes holidays and weekends)\n",
    "\n",
    "url = 'https://raw.githubusercontent.com/d10xa/holidays-calendar/master/json/consultant2021.json'\n",
    "response = rq.get(url)\n",
    "non_working = json.loads(response.text)"
   ]
  },
  {
   "cell_type": "code",
   "execution_count": 24,
   "id": "26d1af59",
   "metadata": {},
   "outputs": [],
   "source": [
    "# converting the non_working data\n",
    "for days in non_working:\n",
    "    non_working[days] = pd.to_datetime(non_working.get(days)).date"
   ]
  },
  {
   "cell_type": "code",
   "execution_count": 25,
   "id": "94ffdcf4",
   "metadata": {},
   "outputs": [],
   "source": [
    "# if the day is holiday\n",
    "orders['is_holiday'] = orders_dates.apply(lambda x: x.date() in non_working['holidays']) * 1\n",
    "delays['is_holiday'] = delays_dates.apply(lambda x: x.date() in non_working['holidays']) * 1"
   ]
  },
  {
   "cell_type": "code",
   "execution_count": 26,
   "id": "515cf339",
   "metadata": {},
   "outputs": [],
   "source": [
    "# if the day is weekend\n",
    "orders['is_weekend'] = ((orders['weekday']==5) | (orders['weekday']==6)) * 1\n",
    "delays['is_weekend'] = ((delays['weekday']==5) | (delays['weekday']==6)) * 1"
   ]
  },
  {
   "cell_type": "code",
   "execution_count": 27,
   "id": "12353a72",
   "metadata": {},
   "outputs": [],
   "source": [
    "#counting days until and before some official non-working day for orders\n",
    "\n",
    "orders_dates = orders_dates.to_frame().sort_values(by='date')\n",
    "\n",
    "sorted_nonworking = np.sort(np.concatenate((non_working['holidays'], non_working['nowork'])))\n",
    "\n",
    "df_non_working = pd.DataFrame({'non_working': sorted_nonworking})\n",
    "df_non_working['non_working'] = pd.to_datetime(df_non_working['non_working'])\n",
    "\n",
    "orders_dates = pd.merge_asof(orders_dates, df_non_working, left_on='date', right_on='non_working', direction='forward')\n",
    "orders_dates = pd.merge_asof(orders_dates, df_non_working, left_on='date', right_on='non_working')\n",
    "\n",
    "orders_dates['days_until_nonworking'] = orders_dates.pop('non_working_x').sub(orders_dates['date']).dt.days\n",
    "orders_dates['days_since_nonworking'] = orders_dates['date'].sub(orders_dates.pop('non_working_y')).dt.days\n",
    "\n",
    "orders_dates = orders_dates.drop_duplicates()"
   ]
  },
  {
   "cell_type": "code",
   "execution_count": 28,
   "id": "bf1233c7",
   "metadata": {},
   "outputs": [],
   "source": [
    "#counting days until and before some official non-working day for delays\n",
    "\n",
    "delays_dates = delays_dates.to_frame().sort_values(by='dttm')\n",
    "\n",
    "sorted_nonworking = np.sort(np.concatenate((non_working['holidays'], non_working['nowork'])))\n",
    "\n",
    "df_non_working = pd.DataFrame({'non_working': sorted_nonworking})\n",
    "df_non_working['non_working'] = pd.to_datetime(df_non_working['non_working'])\n",
    "\n",
    "delays_dates = pd.merge_asof(delays_dates, df_non_working, left_on='dttm', right_on='non_working', direction='forward')\n",
    "delays_dates = pd.merge_asof(delays_dates, df_non_working, left_on='dttm', right_on='non_working')\n",
    "\n",
    "delays_dates['days_until_nonworking'] = delays_dates.pop('non_working_x').sub(delays_dates['dttm']).dt.days\n",
    "delays_dates['days_since_nonworking'] = delays_dates['dttm'].sub(delays_dates.pop('non_working_y')).dt.days\n",
    "\n",
    "delays_dates =  delays_dates.drop_duplicates()"
   ]
  },
  {
   "cell_type": "code",
   "execution_count": 29,
   "id": "a8fc7c2c",
   "metadata": {},
   "outputs": [],
   "source": [
    "# merging \n",
    "\n",
    "orders = pd.merge(orders, orders_dates, how='left', on='date')\n",
    "delays = pd.merge(delays, delays_dates, how='left', on='dttm')"
   ]
  },
  {
   "cell_type": "code",
   "execution_count": 30,
   "id": "d2093d24",
   "metadata": {},
   "outputs": [],
   "source": [
    "#dropping unnecessary cols\n",
    "\n",
    "orders = orders.drop(columns='date')\n",
    "delays = delays.drop(columns='dttm')"
   ]
  },
  {
   "cell_type": "code",
   "execution_count": 31,
   "id": "c2716e38",
   "metadata": {},
   "outputs": [
    {
     "data": {
      "text/html": [
       "<div>\n",
       "<style scoped>\n",
       "    .dataframe tbody tr th:only-of-type {\n",
       "        vertical-align: middle;\n",
       "    }\n",
       "\n",
       "    .dataframe tbody tr th {\n",
       "        vertical-align: top;\n",
       "    }\n",
       "\n",
       "    .dataframe thead th {\n",
       "        text-align: right;\n",
       "    }\n",
       "</style>\n",
       "<table border=\"1\" class=\"dataframe\">\n",
       "  <thead>\n",
       "    <tr style=\"text-align: right;\">\n",
       "      <th></th>\n",
       "      <th>delivery_area_id</th>\n",
       "      <th>orders_cnt</th>\n",
       "      <th>day</th>\n",
       "      <th>hour</th>\n",
       "      <th>weekday</th>\n",
       "      <th>day_of_year</th>\n",
       "      <th>day_freq</th>\n",
       "      <th>weekday_freq</th>\n",
       "      <th>days_until_holiday</th>\n",
       "      <th>days_since_holiday</th>\n",
       "      <th>is_holiday</th>\n",
       "      <th>is_weekend</th>\n",
       "      <th>days_until_nonworking</th>\n",
       "      <th>days_since_nonworking</th>\n",
       "    </tr>\n",
       "  </thead>\n",
       "  <tbody>\n",
       "    <tr>\n",
       "      <th>548203</th>\n",
       "      <td>331</td>\n",
       "      <td>2</td>\n",
       "      <td>25</td>\n",
       "      <td>12</td>\n",
       "      <td>5</td>\n",
       "      <td>268</td>\n",
       "      <td>0.034719</td>\n",
       "      <td>0.144994</td>\n",
       "      <td>39</td>\n",
       "      <td>105</td>\n",
       "      <td>1</td>\n",
       "      <td>1</td>\n",
       "      <td>0</td>\n",
       "      <td>0</td>\n",
       "    </tr>\n",
       "    <tr>\n",
       "      <th>237116</th>\n",
       "      <td>97</td>\n",
       "      <td>1</td>\n",
       "      <td>6</td>\n",
       "      <td>10</td>\n",
       "      <td>2</td>\n",
       "      <td>279</td>\n",
       "      <td>0.030693</td>\n",
       "      <td>0.139205</td>\n",
       "      <td>28</td>\n",
       "      <td>116</td>\n",
       "      <td>0</td>\n",
       "      <td>0</td>\n",
       "      <td>2</td>\n",
       "      <td>3</td>\n",
       "    </tr>\n",
       "    <tr>\n",
       "      <th>782062</th>\n",
       "      <td>499</td>\n",
       "      <td>4</td>\n",
       "      <td>22</td>\n",
       "      <td>12</td>\n",
       "      <td>4</td>\n",
       "      <td>295</td>\n",
       "      <td>0.033911</td>\n",
       "      <td>0.141950</td>\n",
       "      <td>12</td>\n",
       "      <td>132</td>\n",
       "      <td>0</td>\n",
       "      <td>0</td>\n",
       "      <td>0</td>\n",
       "      <td>5</td>\n",
       "    </tr>\n",
       "    <tr>\n",
       "      <th>181311</th>\n",
       "      <td>66</td>\n",
       "      <td>7</td>\n",
       "      <td>18</td>\n",
       "      <td>13</td>\n",
       "      <td>0</td>\n",
       "      <td>291</td>\n",
       "      <td>0.033291</td>\n",
       "      <td>0.141917</td>\n",
       "      <td>16</td>\n",
       "      <td>128</td>\n",
       "      <td>0</td>\n",
       "      <td>0</td>\n",
       "      <td>4</td>\n",
       "      <td>1</td>\n",
       "    </tr>\n",
       "    <tr>\n",
       "      <th>547826</th>\n",
       "      <td>331</td>\n",
       "      <td>3</td>\n",
       "      <td>15</td>\n",
       "      <td>19</td>\n",
       "      <td>6</td>\n",
       "      <td>227</td>\n",
       "      <td>0.032977</td>\n",
       "      <td>0.147145</td>\n",
       "      <td>80</td>\n",
       "      <td>64</td>\n",
       "      <td>1</td>\n",
       "      <td>1</td>\n",
       "      <td>5</td>\n",
       "      <td>0</td>\n",
       "    </tr>\n",
       "  </tbody>\n",
       "</table>\n",
       "</div>"
      ],
      "text/plain": [
       "        delivery_area_id  orders_cnt  day  hour  weekday  day_of_year  \\\n",
       "548203               331           2   25    12        5          268   \n",
       "237116                97           1    6    10        2          279   \n",
       "782062               499           4   22    12        4          295   \n",
       "181311                66           7   18    13        0          291   \n",
       "547826               331           3   15    19        6          227   \n",
       "\n",
       "        day_freq  weekday_freq  days_until_holiday  days_since_holiday  \\\n",
       "548203  0.034719      0.144994                  39                 105   \n",
       "237116  0.030693      0.139205                  28                 116   \n",
       "782062  0.033911      0.141950                  12                 132   \n",
       "181311  0.033291      0.141917                  16                 128   \n",
       "547826  0.032977      0.147145                  80                  64   \n",
       "\n",
       "        is_holiday  is_weekend  days_until_nonworking  days_since_nonworking  \n",
       "548203           1           1                      0                      0  \n",
       "237116           0           0                      2                      3  \n",
       "782062           0           0                      0                      5  \n",
       "181311           0           0                      4                      1  \n",
       "547826           1           1                      5                      0  "
      ]
     },
     "execution_count": 31,
     "metadata": {},
     "output_type": "execute_result"
    }
   ],
   "source": [
    "orders.sample(5)"
   ]
  },
  {
   "cell_type": "code",
   "execution_count": 32,
   "id": "6714c9d5",
   "metadata": {},
   "outputs": [
    {
     "data": {
      "text/html": [
       "<div>\n",
       "<style scoped>\n",
       "    .dataframe tbody tr th:only-of-type {\n",
       "        vertical-align: middle;\n",
       "    }\n",
       "\n",
       "    .dataframe tbody tr th {\n",
       "        vertical-align: top;\n",
       "    }\n",
       "\n",
       "    .dataframe thead th {\n",
       "        text-align: right;\n",
       "    }\n",
       "</style>\n",
       "<table border=\"1\" class=\"dataframe\">\n",
       "  <thead>\n",
       "    <tr style=\"text-align: right;\">\n",
       "      <th></th>\n",
       "      <th>delivery_area_id</th>\n",
       "      <th>partners_cnt</th>\n",
       "      <th>delay_rate</th>\n",
       "      <th>day</th>\n",
       "      <th>hour</th>\n",
       "      <th>weekday</th>\n",
       "      <th>day_of_year</th>\n",
       "      <th>day_freq</th>\n",
       "      <th>weekday_freq</th>\n",
       "      <th>days_until_holiday</th>\n",
       "      <th>days_since_holiday</th>\n",
       "      <th>is_holiday</th>\n",
       "      <th>is_weekend</th>\n",
       "      <th>days_until_nonworking</th>\n",
       "      <th>days_since_nonworking</th>\n",
       "    </tr>\n",
       "  </thead>\n",
       "  <tbody>\n",
       "    <tr>\n",
       "      <th>844405</th>\n",
       "      <td>376</td>\n",
       "      <td>1.0</td>\n",
       "      <td>0.0</td>\n",
       "      <td>29</td>\n",
       "      <td>13</td>\n",
       "      <td>6</td>\n",
       "      <td>241</td>\n",
       "      <td>0.035774</td>\n",
       "      <td>0.143506</td>\n",
       "      <td>66</td>\n",
       "      <td>78</td>\n",
       "      <td>1</td>\n",
       "      <td>1</td>\n",
       "      <td>5</td>\n",
       "      <td>0</td>\n",
       "    </tr>\n",
       "    <tr>\n",
       "      <th>742207</th>\n",
       "      <td>325</td>\n",
       "      <td>1.0</td>\n",
       "      <td>0.0</td>\n",
       "      <td>29</td>\n",
       "      <td>21</td>\n",
       "      <td>1</td>\n",
       "      <td>180</td>\n",
       "      <td>0.035774</td>\n",
       "      <td>0.144958</td>\n",
       "      <td>127</td>\n",
       "      <td>17</td>\n",
       "      <td>0</td>\n",
       "      <td>0</td>\n",
       "      <td>3</td>\n",
       "      <td>2</td>\n",
       "    </tr>\n",
       "    <tr>\n",
       "      <th>107338</th>\n",
       "      <td>31</td>\n",
       "      <td>1.0</td>\n",
       "      <td>0.0</td>\n",
       "      <td>14</td>\n",
       "      <td>21</td>\n",
       "      <td>5</td>\n",
       "      <td>226</td>\n",
       "      <td>0.031761</td>\n",
       "      <td>0.143143</td>\n",
       "      <td>81</td>\n",
       "      <td>63</td>\n",
       "      <td>1</td>\n",
       "      <td>1</td>\n",
       "      <td>0</td>\n",
       "      <td>0</td>\n",
       "    </tr>\n",
       "    <tr>\n",
       "      <th>86362</th>\n",
       "      <td>25</td>\n",
       "      <td>3.0</td>\n",
       "      <td>0.0</td>\n",
       "      <td>30</td>\n",
       "      <td>20</td>\n",
       "      <td>6</td>\n",
       "      <td>150</td>\n",
       "      <td>0.036027</td>\n",
       "      <td>0.143506</td>\n",
       "      <td>12</td>\n",
       "      <td>21</td>\n",
       "      <td>1</td>\n",
       "      <td>1</td>\n",
       "      <td>5</td>\n",
       "      <td>0</td>\n",
       "    </tr>\n",
       "    <tr>\n",
       "      <th>811486</th>\n",
       "      <td>360</td>\n",
       "      <td>2.0</td>\n",
       "      <td>0.0</td>\n",
       "      <td>19</td>\n",
       "      <td>18</td>\n",
       "      <td>3</td>\n",
       "      <td>231</td>\n",
       "      <td>0.032834</td>\n",
       "      <td>0.141769</td>\n",
       "      <td>76</td>\n",
       "      <td>68</td>\n",
       "      <td>0</td>\n",
       "      <td>0</td>\n",
       "      <td>1</td>\n",
       "      <td>4</td>\n",
       "    </tr>\n",
       "  </tbody>\n",
       "</table>\n",
       "</div>"
      ],
      "text/plain": [
       "        delivery_area_id  partners_cnt  delay_rate  day  hour  weekday  \\\n",
       "844405               376           1.0         0.0   29    13        6   \n",
       "742207               325           1.0         0.0   29    21        1   \n",
       "107338                31           1.0         0.0   14    21        5   \n",
       "86362                 25           3.0         0.0   30    20        6   \n",
       "811486               360           2.0         0.0   19    18        3   \n",
       "\n",
       "        day_of_year  day_freq  weekday_freq  days_until_holiday  \\\n",
       "844405          241  0.035774      0.143506                  66   \n",
       "742207          180  0.035774      0.144958                 127   \n",
       "107338          226  0.031761      0.143143                  81   \n",
       "86362           150  0.036027      0.143506                  12   \n",
       "811486          231  0.032834      0.141769                  76   \n",
       "\n",
       "        days_since_holiday  is_holiday  is_weekend  days_until_nonworking  \\\n",
       "844405                  78           1           1                      5   \n",
       "742207                  17           0           0                      3   \n",
       "107338                  63           1           1                      0   \n",
       "86362                   21           1           1                      5   \n",
       "811486                  68           0           0                      1   \n",
       "\n",
       "        days_since_nonworking  \n",
       "844405                      0  \n",
       "742207                      2  \n",
       "107338                      0  \n",
       "86362                       0  \n",
       "811486                      4  "
      ]
     },
     "execution_count": 32,
     "metadata": {},
     "output_type": "execute_result"
    }
   ],
   "source": [
    "delays.sample(5)"
   ]
  },
  {
   "cell_type": "code",
   "execution_count": 33,
   "id": "aae7fdb8",
   "metadata": {},
   "outputs": [],
   "source": [
    "orders.to_csv('orders_extracted.csv')\n",
    "delays.to_csv('delays_extracted.csv')"
   ]
  }
 ],
 "metadata": {
  "kernelspec": {
   "display_name": "Python 3 (ipykernel)",
   "language": "python",
   "name": "python3"
  },
  "language_info": {
   "codemirror_mode": {
    "name": "ipython",
    "version": 3
   },
   "file_extension": ".py",
   "mimetype": "text/x-python",
   "name": "python",
   "nbconvert_exporter": "python",
   "pygments_lexer": "ipython3",
   "version": "3.8.5"
  }
 },
 "nbformat": 4,
 "nbformat_minor": 5
}
