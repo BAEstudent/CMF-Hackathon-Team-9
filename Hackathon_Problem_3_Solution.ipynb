{
 "cells": [
  {
   "cell_type": "code",
   "execution_count": 1,
   "metadata": {},
   "outputs": [],
   "source": [
    "import numpy as np\n",
    "import cvxpy as cp\n",
    "import matplotlib.pyplot as plt"
   ]
  },
  {
   "cell_type": "code",
   "execution_count": 6,
   "metadata": {},
   "outputs": [],
   "source": [
    "# Stating the problem's exogenous parameters (number of hours in a day, number of shift types, demand for couriers)\n",
    "num_hours = 11\n",
    "num_shift_types = 5\n",
    "demand = np.random.randint(0, 26, 11)"
   ]
  },
  {
   "cell_type": "code",
   "execution_count": 7,
   "metadata": {},
   "outputs": [
    {
     "data": {
      "text/plain": [
       "array([ 0, 19, 16, 24, 14, 10, 23, 22, 23, 23, 14])"
      ]
     },
     "execution_count": 7,
     "metadata": {},
     "output_type": "execute_result"
    }
   ],
   "source": [
    "# Demand for couriers\n",
    "demand"
   ]
  },
  {
   "cell_type": "code",
   "execution_count": 8,
   "metadata": {},
   "outputs": [
    {
     "data": {
      "text/plain": [
       "array([[ 0.,  0.,  0.,  0.,  0.,  0.,  0., 14.,  0.,  0.,  0.],\n",
       "       [ 0.,  0.,  0.,  0.,  0.,  0.,  0.,  0.,  0.,  0.,  0.],\n",
       "       [ 0.,  0.,  0.,  0.,  0.,  0.,  0.,  0.,  0.,  0.,  0.],\n",
       "       [ 0.,  0.,  0.,  0.,  0.,  0.,  0.,  0.,  0.,  0.,  0.],\n",
       "       [ 0., 19.,  9.,  0.,  0.,  0.,  0.,  0.,  0.,  0.,  0.]])"
      ]
     },
     "execution_count": 8,
     "metadata": {},
     "output_type": "execute_result"
    }
   ],
   "source": [
    "# Creating the decision variables and supplementary variables\n",
    "N = cp.Variable(shape=(5, 11), integer=True)\n",
    "ident_11 = np.ones((11, 1))\n",
    "ident_5 = np.ones((5,))\n",
    "\n",
    "#Formulating the objective function and necessary constraints\n",
    "obj = cp.Minimize(ident_5 @ (N @ ident_11))\n",
    "cons = [\n",
    "    N>=0,\n",
    "    cp.sum(N[:,0]) >= demand[0],\n",
    "    cp.sum(N[:,0]) + cp.sum(N[:,1]) >= demand[1],\n",
    "    cp.sum(N[:,0]) + cp.sum(N[:,1]) + cp.sum(N[:,2]) >= demand[2],\n",
    "    cp.sum(N[:,0]) + cp.sum(N[:,1]) + cp.sum(N[:,2]) + cp.sum(N[:,3]) >= demand[3],\n",
    "    cp.sum(N[1:,0]) + cp.sum(N[:,1]) + cp.sum(N[:,2]) + cp.sum(N[:,3]) + cp.sum(N[:3,4])>=demand[4],\n",
    "    cp.sum(N[2:,0]) + cp.sum(N[1:,1]) + cp.sum(N[:,2]) + cp.sum(N[:,3]) + \n",
    "    cp.sum(N[:3,4]) + cp.sum(N[:2,5]) >= demand[5],\n",
    "    cp.sum(N[3:,0]) + cp.sum(N[2:,1]) + cp.sum(N[1:,2]) + cp.sum(N[:,3]) + \n",
    "    cp.sum(N[:3,4]) + cp.sum(N[:2,5]) + cp.sum(N[:1, 6]) >= demand[6],\n",
    "    N[4,1] + cp.sum(N[3:,2]) + cp.sum(N[2:,3]) + cp.sum(N[1:3,4]) + \n",
    "    cp.sum(N[:2,5]) + cp.sum(N[:1,6]) + N[0, 7] >= demand[7],\n",
    "    N[4,1] + cp.sum(N[2:,2]) + cp.sum(N[1:,3]) + \n",
    "    cp.sum(N[:3,4]) + cp.sum(N[:2,5]) + cp.sum(N[:1, 6]) + N[0, 7] >= demand[8],\n",
    "    N[4,2] + cp.sum(N[3:4, 3]) + cp.sum(N[2:3, 4]) + cp.sum(N[1:2, 5]) +\n",
    "    cp.sum(N[0:1, 6]) + N[0,7] >= demand[9],\n",
    "    N[4, 3] + N[3, 4] + N[1, 6] + N[0, 7] >= demand[10],\n",
    "]\n",
    "prob = cp.Problem(obj, cons)\n",
    "\n",
    "#Solving the problem and acquiring results\n",
    "prob.solve()\n",
    "res = N.value\n",
    "res"
   ]
  },
  {
   "cell_type": "code",
   "execution_count": 9,
   "metadata": {},
   "outputs": [
    {
     "data": {
      "text/plain": [
       "<BarContainer object of 11 artists>"
      ]
     },
     "execution_count": 9,
     "metadata": {},
     "output_type": "execute_result"
    },
    {
     "data": {
      "image/png": "[encoded data removed]",
      "text/plain": [
       "<Figure size 576x432 with 1 Axes>"
      ]
     },
     "metadata": {
      "needs_background": "light"
     },
     "output_type": "display_data"
    }
   ],
   "source": [
    "shifts = [np.sum(res[:,0]),\n",
    "    np.sum(res[:,0]) + np.sum(res[:,1]),\n",
    "    np.sum(res[:,0]) + np.sum(res[:,1]) + np.sum(res[:,2]),\n",
    "    np.sum(res[:,0]) + np.sum(res[:,1]) + np.sum(res[:,2]) + np.sum(res[:,3]),\n",
    "    np.sum(res[1:,0]) + np.sum(res[:,1]) + np.sum(res[:,2]) + np.sum(res[:,3]) + np.sum(res[:3,4]),\n",
    "    np.sum(res[2:,0]) + np.sum(res[1:,1]) + np.sum(res[:,2]) + np.sum(res[:,3]) + \n",
    "    np.sum(res[:3,4]) + np.sum(res[:2,5]),\n",
    "    np.sum(res[3:,0]) + np.sum(res[2:,1]) + np.sum(res[1:,2]) + np.sum(res[:,3]) + \n",
    "    np.sum(res[:3,4]) + np.sum(res[:2,5]) + np.sum(res[:1, 6]),\n",
    "    res[4,1] + np.sum(res[3:,2]) + np.sum(res[2:,3]) + np.sum(res[1:3,4]) + \n",
    "    np.sum(res[:2,5]) + np.sum(res[:1,6]) + res[0, 7],\n",
    "    res[4,1] + np.sum(res[2:,2]) + np.sum(res[1:,3]) + \n",
    "    np.sum(res[:3,4]) + np.sum(res[:2,5]) + np.sum(res[:1, 6]) + res[0, 7],\n",
    "    res[4,2] + np.sum(res[3:4, 3]) + np.sum(res[2:3, 4]) + np.sum(res[1:2, 5]) +\n",
    "    np.sum(res[0:1, 6]) + res[0,7],\n",
    "    res[4, 3] + res[3, 4] + res[1, 6] + res[0, 7]]\n",
    "\n",
    "fig = plt.figure(figsize=(8, 6))\n",
    "ax = plt.axes()\n",
    "\n",
    "ax.bar(list(range(0, 11)), shifts)\n",
    "ax.bar(list(range(0, 11)), demand)"
   ]
  }
 ],
 "metadata": {
  "kernelspec": {
   "display_name": "Python 3",
   "language": "python",
   "name": "python3"
  },
  "language_info": {
   "codemirror_mode": {
    "name": "ipython",
    "version": 3
   },
   "file_extension": ".py",
   "mimetype": "text/x-python",
   "name": "python",
   "nbconvert_exporter": "python",
   "pygments_lexer": "ipython3",
   "version": "3.7.3"
  }
 },
 "nbformat": 4,
 "nbformat_minor": 4
}
