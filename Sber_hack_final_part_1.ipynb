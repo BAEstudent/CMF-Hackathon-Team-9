{
  "nbformat": 4,
  "nbformat_minor": 0,
  "metadata": {
    "colab": {
      "provenance": []
    },
    "kernelspec": {
      "name": "python3",
      "display_name": "Python 3"
    },
    "language_info": {
      "name": "python"
    }
  },
  "cells": [
    {
      "cell_type": "code",
      "source": [
        "import pandas as pd\n",
        "import numpy as np\n",
        "import matplotlib.pyplot as plt\n",
        "import seaborn as sns\n",
        "\n",
        "from datetime import datetime, timedelta\n",
        "import xgboost as xgb\n",
        "from sklearn.metrics import mean_squared_error\n",
        "color_pal = sns.color_palette()\n",
        "plt.style.use('fivethirtyeight')\n",
        "\n",
        "from sklearn.preprocessing import StandardScaler\n",
        "from sklearn.model_selection import TimeSeriesSplit"
      ],
      "metadata": {
        "id": "lVucBLJ25z8Z"
      },
      "execution_count": null,
      "outputs": []
    },
    {
      "cell_type": "markdown",
      "source": [
        "Фунции обработки признаков"
      ],
      "metadata": {
        "id": "BTNC1wwg_yvY"
      }
    },
    {
      "cell_type": "code",
      "source": [
        "def get_holidays():\n",
        "  #Список праздников в 2021\n",
        "  holidays = []\n",
        "  for i in range(1, 11):\n",
        "    holidays.append(datetime(2021, 1, i).date())\n",
        "  for i in range(21, 24):\n",
        "    holidays.append(datetime(2021, 2, i).date())\n",
        "  for i in range(6, 9):\n",
        "    holidays.append(datetime(2021, 3, i).date())\n",
        "  for i in range(1, 4):\n",
        "    holidays.append(datetime(2021, 5, i).date())\n",
        "  for i in range(8, 11):\n",
        "    holidays.append(datetime(2021, 5, i).date())\n",
        "  for i in range(12, 15):\n",
        "    holidays.append(datetime(2021, 6, i).date())\n",
        "  for i in range(4, 8):\n",
        "    holidays.append(datetime(2021, 11, i).date())\n",
        "  holidays.append(datetime(2021, 12, 31).date())\n",
        "  Holidays = np.array([holidays])\n",
        "  return holidays"
      ],
      "metadata": {
        "id": "xDX9KGQP8NY7"
      },
      "execution_count": null,
      "outputs": []
    },
    {
      "cell_type": "code",
      "source": [
        "def before_after_holiday(df): \n",
        "  df = df.copy()\n",
        "  holidays = get_holidays()\n",
        "  #выделим отдельный DataFrame только с датами\n",
        "  df_dates = pd.Series(df.index, name=\"date\").to_frame().sort_values(by='date')\n",
        "  df_holidays = pd.DataFrame({'holidays': holidays})\n",
        "  df_holidays['holidays'] = pd.to_datetime(df_holidays['holidays'])\n",
        "  df_dates = pd.merge_asof(df_dates, df_holidays, left_on='date', right_on='holidays', direction='forward')\n",
        "  df_dates = pd.merge_asof(df_dates, df_holidays, left_on='date', right_on='holidays')\n",
        "  df_dates['days_until_holiday'] = df_dates.pop('holidays_x').sub(df_dates['date']).dt.days\n",
        "  df_dates['days_since_holiday'] = df_dates['date'].sub(df_dates.pop('holidays_y')).dt.days\n",
        "  df_dates = df_dates.drop_duplicates()\n",
        "  df = pd.merge(df, df_dates, how='left', on='date')\n",
        "  if df.index.name != 'date':\n",
        "    #В DataFrame orders заменим индексы на даты\n",
        "    df = df.set_index('date')\n",
        "  #Добавляем строки, чтобы были данные по каждому часу\n",
        "  df = df.asfreq('H')\n",
        "  return df"
      ],
      "metadata": {
        "id": "SrfN00uJ8VP_"
      },
      "execution_count": null,
      "outputs": []
    },
    {
      "cell_type": "code",
      "source": [
        "def create_features(df, id_area=0):\n",
        "    \"\"\"\n",
        "    Create time series features based on time series index.\n",
        "    \"\"\"\n",
        "    holidays = get_holidays()\n",
        "    df = df.copy()\n",
        "    df['hour'] = df.index.hour\n",
        "    df['dayofweek'] = df.index.dayofweek\n",
        "    df['quarter'] = df.index.quarter\n",
        "    df['month'] = df.index.month\n",
        "    df['year'] = df.index.year\n",
        "    df['dayofyear'] = df.index.dayofyear\n",
        "    df['dayofmonth'] = df.index.day\n",
        "    df['weekofyear'] = df.index.isocalendar().week.astype(np.int64)\n",
        "    df['delivery_area_id'] = id_area\n",
        "    #Добавляем данные о праздниках (0/1)\n",
        "    df['Holidays'] = np.array(list(map(lambda x: 1 if x in np.array([holidays]) else 0, df.index.date)))\n",
        "    #Добавляем отдельно столбец с единицей, если время вне интервала с 10:00 до 20:00\n",
        "    df['early_late_h'] = np.array(list(map(lambda x: 1 if x in list(range(0, 10))+list(range(21, 24)) else 0,  df.index.hour)))\n",
        "    #Если выходной, то 1\n",
        "    df['weekend'] = np.array(list(map(lambda x: 1 if x in [5, 6] else 0, df.index.dayofweek)))\n",
        "    return df"
      ],
      "metadata": {
        "id": "YKWS9RFR8dmJ"
      },
      "execution_count": null,
      "outputs": []
    },
    {
      "cell_type": "code",
      "source": [
        "def add_lags(df):\n",
        "  target_map = df['orders_cnt'].to_dict()\n",
        "  df['lag1'] = (df.index - pd.Timedelta('7 days')).map(target_map)\n",
        "  df['lag2'] = (df.index - pd.Timedelta('14 days')).map(target_map)\n",
        "  df['lag3'] = (df.index - pd.Timedelta('28 days')).map(target_map)\n",
        "  return df"
      ],
      "metadata": {
        "id": "DIyan2VW8fFP"
      },
      "execution_count": null,
      "outputs": []
    },
    {
      "cell_type": "markdown",
      "source": [
        "Функция возвращает pandas DataFrame числа заказов по часам на неделю вперед"
      ],
      "metadata": {
        "id": "ItZu75bu_juK"
      }
    },
    {
      "cell_type": "code",
      "source": [
        "def num_orders_pred(orders_file):\n",
        "  orders = pd.read_csv(orders_file)\n",
        "  #преобразуем столбец 'date' в datetime format\n",
        "  orders['date'] = pd.to_datetime(orders['date'])\n",
        "  #Собираем уникальные delivery_area_id\n",
        "  unique_id = orders['delivery_area_id'].unique()\n",
        "\n",
        "  for id_area in unique_id:\n",
        "    df = orders[orders['delivery_area_id'] == id_area]\n",
        "    #В DataFrame orders заменим индекты на даты\n",
        "    df = df.set_index('date')\n",
        "    #Добавляем строки, чтобы были данные по каждому часу\n",
        "    df = df.asfreq('H')\n",
        "    df['orders_cnt'] = df['orders_cnt'].interpolate()\n",
        "    df['delivery_area_id'] = id_area\n",
        "    holidays = get_holidays() #Список праздников в 2021\n",
        "    df = create_features(df, id_area)\n",
        "    df = before_after_holiday(df)\n",
        "    target_map = df['orders_cnt'].to_dict()\n",
        "    df = add_lags(df)\n",
        "    #Cross_validation\n",
        "    pca = StandardScaler()\n",
        "    tscv = TimeSeriesSplit(n_splits=5, test_size=int(len(df)*.05), gap=24)\n",
        "    fold = 0\n",
        "    preds = []\n",
        "    scores = []\n",
        "\n",
        "    for train_index, test_index in tscv.split(df):\n",
        "      train = df.iloc[train_index]\n",
        "      test = df.iloc[test_index]\n",
        "\n",
        "      train = create_features(train)\n",
        "      test = create_features(test)\n",
        "\n",
        "      FEATURES = ['hour', 'dayofweek', 'quarter',\n",
        "          'month', 'year', 'dayofyear', 'dayofmonth', 'weekofyear', 'Holidays',\n",
        "          'early_late_h', 'weekend', 'days_until_holiday', 'days_since_holiday',\n",
        "          'lag1', 'lag2', 'lag3']\n",
        "      TARGET = 'orders_cnt'\n",
        "      X_train = train[FEATURES]\n",
        "      y_train = train[TARGET]\n",
        "\n",
        "      X_test = test[FEATURES]\n",
        "      y_test = test[TARGET]\n",
        "\n",
        "      # X_train = pca.fit_transform(X_train)\n",
        "      # X_test = pca.transform(X_test)\n",
        "\n",
        "      reg = xgb.XGBRegressor(base_score=0.5, booster='gbtree',    \n",
        "                          n_estimators=500,\n",
        "                          early_stopping_rounds=50,\n",
        "                          objective='reg:linear',\n",
        "                          max_depth=3,\n",
        "                          learning_rate=0.01)\n",
        "      reg.fit(X_train, y_train,\n",
        "            eval_set=[(X_train, y_train), (X_test, y_test)],\n",
        "            verbose=100)\n",
        "      y_pred = reg.predict(X_test)\n",
        "      preds.append(y_pred)\n",
        "      score = np.sqrt(mean_squared_error(y_test, y_pred))\n",
        "      scores.append(score)\n",
        "    #Еще раз обучаемся, но уже на всем датасете\n",
        "    X_all = df[FEATURES]\n",
        "    y_all = df[TARGET]\n",
        "\n",
        "    reg = xgb.XGBRegressor(base_score=0.5, booster='gbtree',    \n",
        "                            n_estimators=500,\n",
        "                            early_stopping_rounds=50,\n",
        "                            objective='reg:linear',\n",
        "                            max_depth=3,\n",
        "                            learning_rate=0.01)\n",
        "    reg.fit(X_all, y_all,\n",
        "            eval_set=[(X_all, y_all)],\n",
        "            verbose=100)\n",
        "    #Create future preds\n",
        "    print(df.index.max())\n",
        "    start = (df.index.max() + pd.Timedelta('1h')).to_pydatetime()\n",
        "    print(start)\n",
        "    end = (start + pd.Timedelta(8, \"d\")).to_pydatetime()\n",
        "    print(end)\n",
        "    # end =  '2021-12-07 21:00:00'\n",
        "    future = pd.date_range(start, end, freq='1h')\n",
        "    future_df = pd.DataFrame(index=future)\n",
        "    future_df['isFuture'] = True\n",
        "    df['isFuture'] = False\n",
        "    df_and_future = pd.concat([df, future_df])\n",
        "    df_and_future.index.name = 'date'\n",
        "    df_and_future = df_and_future.drop(columns=['days_until_holiday', 'days_since_holiday'])\n",
        "    df_and_future = before_after_holiday(df_and_future)\n",
        "    df_and_future = create_features(df_and_future, id_area)\n",
        "    df_and_future = add_lags(df_and_future)\n",
        "    future_w_features = df_and_future.query('isFuture').copy()\n",
        "    future_w_features['prediction'] = reg.predict(future_w_features[FEATURES])\n",
        "    result_part = future_w_features['prediction'].to_frame(name = f'area_id_{id_area}')\n",
        "    if id_area == 0:\n",
        "      result = result_part\n",
        "    else:\n",
        "      result[f'area_id_{id_area}'] = result_part[f'area_id_{id_area}']\n",
        "    print(f\"Have finished with {id_area}, columns: {result.columns}, len: {len(result)}\")\n",
        "  return result\n",
        "res = num_orders_pred('orders.csv')"
      ],
      "metadata": {
        "id": "mEEuV4Ti8pNC"
      },
      "execution_count": null,
      "outputs": []
    },
    {
      "cell_type": "code",
      "source": [
        "res_copy = res\n",
        "res.to_csv('result.csv') #res.to_csv('final_res.csv')"
      ],
      "metadata": {
        "id": "OmllbIh0917i"
      },
      "execution_count": null,
      "outputs": []
    },
    {
      "cell_type": "markdown",
      "source": [
        "#Файл 'final_res.csv' с посчитанными данными о числе заказов по delivery_area_id c 0 по 592, с 01.12.2021 по 07.12.2021 с 10:00 до 22:00 \n"
      ],
      "metadata": {
        "id": "5jeAdex--S1Z"
      }
    },
    {
      "cell_type": "code",
      "execution_count": null,
      "metadata": {
        "id": "D8R8Td9C5lz_"
      },
      "outputs": [],
      "source": [
        "df = pd.read_csv('final_res.csv')"
      ]
    },
    {
      "cell_type": "code",
      "source": [
        "df['date'] = pd.to_datetime(df['date'])"
      ],
      "metadata": {
        "id": "TYyPG5_x6BUP"
      },
      "execution_count": null,
      "outputs": []
    },
    {
      "cell_type": "code",
      "source": [
        "df = df.set_index('date')"
      ],
      "metadata": {
        "id": "faWp7Wnz6YpM"
      },
      "execution_count": null,
      "outputs": []
    },
    {
      "cell_type": "code",
      "source": [
        "df['area_id_590'].plot()"
      ],
      "metadata": {
        "colab": {
          "base_uri": "https://localhost:8080/",
          "height": 345
        },
        "id": "L_BFKcGd6mMh",
        "outputId": "b35cedd4-58f3-40f7-b0f4-7f9175f7a53f"
      },
      "execution_count": null,
      "outputs": [
        {
          "output_type": "execute_result",
          "data": {
            "text/plain": [
              "<matplotlib.axes._subplots.AxesSubplot at 0x7fc3a0596850>"
            ]
          },
          "metadata": {},
          "execution_count": 23
        },
        {
          "output_type": "display_data",
          "data": {
            "text/plain": [
              "<Figure size 432x288 with 1 Axes>"
            ],
            "image/png": "[encoded data removed]"
          },
          "metadata": {}
        }
      ]
    }
  ]
}